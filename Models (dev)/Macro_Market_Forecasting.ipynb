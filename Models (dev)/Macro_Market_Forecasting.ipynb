{
 "cells": [
  {
   "cell_type": "markdown",
   "id": "26ef35df",
   "metadata": {},
   "source": [
    "# 📊 Macro-Based Market Forecasting\n",
    "This notebook builds a forecasting model using macroeconomic data and KMeans-based regime detection."
   ]
  },
  {
   "cell_type": "code",
   "execution_count": null,
   "id": "595af2d6",
   "metadata": {},
   "outputs": [],
   "source": [
    "import pandas as pd\n",
    "import numpy as np\n",
    "import matplotlib.pyplot as plt\n",
    "import seaborn as sns\n",
    "import joblib\n",
    "from sklearn.preprocessing import StandardScaler\n",
    "from sklearn.pipeline import Pipeline\n",
    "from sklearn.linear_model import Lasso\n",
    "from sklearn.decomposition import PCA\n",
    "from sklearn.cluster import KMeans\n",
    "from sklearn.model_selection import TimeSeriesSplit\n"
   ]
  },
  {
   "cell_type": "markdown",
   "id": "48d2a91f",
   "metadata": {},
   "source": [
    "## 📂 Load Data"
   ]
  },
  {
   "cell_type": "code",
   "execution_count": null,
   "id": "12a05da8",
   "metadata": {},
   "outputs": [],
   "source": [
    "# Load your dataset here\n",
    "df = pd.read_excel(\"market_data.xlsx\", sheet_name=\"historical_data\")\n",
    "df = df.sort_values(\"Date\").set_index(\"Date\")\n"
   ]
  },
  {
   "cell_type": "markdown",
   "id": "aa054f94",
   "metadata": {},
   "source": [
    "## 🧮 Feature Engineering: Lags and Macro-only Selection"
   ]
  },
  {
   "cell_type": "code",
   "execution_count": null,
   "id": "d11dd037",
   "metadata": {},
   "outputs": [],
   "source": [
    "# Generate lags\n",
    "lag_months = [1, 3, 6]\n",
    "for col in df.columns:\n",
    "    for lag in lag_months:\n",
    "        df[f\"{col}_lag{lag}\"] = df[col].shift(lag)\n",
    "\n",
    "# Target\n",
    "df[\"MSCI_World_target\"] = df[\"MSCI World\"].shift(-1)\n",
    "\n",
    "# 1M momentum features\n",
    "returns_df = df.pct_change().add_suffix('_pct_1m')\n",
    "full_df = pd.concat([df, returns_df], axis=1).dropna()\n",
    "\n",
    "# Define X and y\n",
    "X = full_df.drop(columns=[\"MSCI World\", \"MSCI_World_target\"])\n",
    "y = full_df[\"MSCI_World_target\"]\n",
    "\n",
    "# Clean and restrict to macro-only\n",
    "X = X.replace([np.inf, -np.inf], np.nan).dropna()\n",
    "y = y.loc[X.index]\n",
    "X = X.drop(columns=[col for col in X.columns if any(keyword in col for keyword in [\"NASDAQ\", \"Portfolio\", \"EURO STOXX\", \"OMX30\", \"Russell\", \"S&P 500\", \"MSCI\", \"PPM\"])])\n"
   ]
  },
  {
   "cell_type": "markdown",
   "id": "8a41349a",
   "metadata": {},
   "source": [
    "## 🤖 KMeans Regime Detection"
   ]
  },
  {
   "cell_type": "code",
   "execution_count": null,
   "id": "ed85b0cd",
   "metadata": {},
   "outputs": [],
   "source": [
    "scaler = StandardScaler()\n",
    "X_scaled = scaler.fit_transform(X)\n",
    "\n",
    "kmeans = KMeans(n_clusters=5, random_state=42, n_init=10)\n",
    "regimes = kmeans.fit_predict(X_scaled)\n",
    "\n",
    "X[\"Regime\"] = regimes\n",
    "X[\"Date\"] = y.index\n"
   ]
  },
  {
   "cell_type": "markdown",
   "id": "1164d24d",
   "metadata": {},
   "source": [
    "## 📊 Regime Macro Summary"
   ]
  },
  {
   "cell_type": "code",
   "execution_count": null,
   "id": "ea3bdccc",
   "metadata": {},
   "outputs": [],
   "source": [
    "regime_summary = X.groupby(\"Regime\").mean().round(2)\n",
    "regime_summary\n"
   ]
  },
  {
   "cell_type": "markdown",
   "id": "7615f90e",
   "metadata": {},
   "source": [
    "## 🔮 Lasso Forecasting Model"
   ]
  },
  {
   "cell_type": "code",
   "execution_count": null,
   "id": "0fdb0f79",
   "metadata": {},
   "outputs": [],
   "source": [
    "X_encoded = pd.get_dummies(X.drop(columns=[\"Date\"]))\n",
    "lasso_pipeline = Pipeline([\n",
    "    (\"scaler\", StandardScaler()),\n",
    "    (\"lasso\", Lasso(alpha=0.1))\n",
    "])\n",
    "lasso_pipeline.fit(X_encoded, y)\n",
    "y_pred = lasso_pipeline.predict(X_encoded)\n",
    "\n",
    "# Evaluate\n",
    "rmse = np.sqrt(np.mean((y - y_pred) ** 2))\n",
    "pct_error = (rmse / y.mean()) * 100\n",
    "rmse, pct_error\n"
   ]
  },
  {
   "cell_type": "markdown",
   "id": "26a44b60",
   "metadata": {},
   "source": [
    "## 📈 Actual vs Predicted"
   ]
  },
  {
   "cell_type": "code",
   "execution_count": null,
   "id": "ab018959",
   "metadata": {},
   "outputs": [],
   "source": [
    "plt.figure(figsize=(12, 5))\n",
    "plt.plot(y.index, y, label='Actual MSCI World')\n",
    "plt.plot(y.index, y_pred, label='Predicted', alpha=0.7)\n",
    "plt.title(\"MSCI World Forecast - Lasso + Macro Regimes\")\n",
    "plt.xlabel(\"Date\")\n",
    "plt.ylabel(\"Index Level\")\n",
    "plt.legend()\n",
    "plt.grid(True)\n",
    "plt.tight_layout()\n",
    "plt.show()\n"
   ]
  },
  {
   "cell_type": "markdown",
   "id": "83c6316d",
   "metadata": {},
   "source": [
    "## 💾 Save Models"
   ]
  },
  {
   "cell_type": "code",
   "execution_count": null,
   "id": "fc2b5925",
   "metadata": {},
   "outputs": [],
   "source": [
    "joblib.dump(lasso_pipeline, \"final_macro_lasso_model.joblib\")\n",
    "joblib.dump(kmeans, \"final_kmeans_macro_model.joblib\")\n",
    "joblib.dump(scaler, \"final_scaler.joblib\")\n"
   ]
  }
 ],
 "metadata": {},
 "nbformat": 4,
 "nbformat_minor": 5
}
